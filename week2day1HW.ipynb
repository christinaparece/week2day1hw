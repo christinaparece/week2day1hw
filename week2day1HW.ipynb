{
 "cells": [
  {
   "cell_type": "markdown",
   "metadata": {},
   "source": [
    "# Week 2 - Monday Lesson (variable assignment, loops, lists)"
   ]
  },
  {
   "cell_type": "markdown",
   "metadata": {},
   "source": [
    "# Tasks Today:\n",
    "\n",
    "1) Int & Float assignments <br>\n",
    " &nbsp;&nbsp;&nbsp;&nbsp; a) Assigning int <br>\n",
    " &nbsp;&nbsp;&nbsp;&nbsp; b) Assigning float <br>\n",
    " &nbsp;&nbsp;&nbsp;&nbsp; c) Performing Calculations on ints and floats <br>\n",
    " &nbsp;&nbsp;&nbsp;&nbsp;&nbsp;&nbsp;&nbsp;&nbsp; - Addition <br>\n",
    " &nbsp;&nbsp;&nbsp;&nbsp;&nbsp;&nbsp;&nbsp;&nbsp; - Subtraction <br>\n",
    " &nbsp;&nbsp;&nbsp;&nbsp;&nbsp;&nbsp;&nbsp;&nbsp; - Multiplication <br>\n",
    " &nbsp;&nbsp;&nbsp;&nbsp;&nbsp;&nbsp;&nbsp;&nbsp; - Division <br>\n",
    " &nbsp;&nbsp;&nbsp;&nbsp;&nbsp;&nbsp;&nbsp;&nbsp; - Floor Division <br>\n",
    " &nbsp;&nbsp;&nbsp;&nbsp;&nbsp;&nbsp;&nbsp;&nbsp; - Modulo <br>\n",
    " &nbsp;&nbsp;&nbsp;&nbsp;&nbsp;&nbsp;&nbsp;&nbsp; - Exponential <br>\n",
    "2) String Input-Output <br>\n",
    " &nbsp;&nbsp;&nbsp;&nbsp; a) String Assignment <br>\n",
    " &nbsp;&nbsp;&nbsp;&nbsp; b) print() <br>\n",
    " &nbsp;&nbsp;&nbsp;&nbsp; c) String Concatenation <br>\n",
    " &nbsp;&nbsp;&nbsp;&nbsp; d) Type Conversion <br>\n",
    " &nbsp;&nbsp;&nbsp;&nbsp; e) input() <br>\n",
    " &nbsp;&nbsp;&nbsp;&nbsp; f) format() <br>\n",
    " &nbsp;&nbsp;&nbsp;&nbsp; g) Old Way (python 2) <br>\n",
    "3) <b>In-Class Exercise #1</b> <br>\n",
    "4) If Statements <br>\n",
    " &nbsp;&nbsp;&nbsp;&nbsp; a) 'is' keyword <br>\n",
    " &nbsp;&nbsp;&nbsp;&nbsp; b) 'in' keyword <br>\n",
    " &nbsp;&nbsp;&nbsp;&nbsp; c) 'not in' keyword <br>\n",
    "5) <b>In-Class Exercise #2</b> <br>\n",
    "6) Elif Statements <br>\n",
    "7) Else Statements <br>\n",
    "8) <b>In-Class Exercise #3</b> <br>\n",
    "9) For Loops <br>\n",
    " &nbsp;&nbsp;&nbsp;&nbsp; a) Using 'in' keyword <br>\n",
    " &nbsp;&nbsp;&nbsp;&nbsp; b) Continue Statement <br>\n",
    " &nbsp;&nbsp;&nbsp;&nbsp; c) Break Statement <br>\n",
    " &nbsp;&nbsp;&nbsp;&nbsp; d) Pass Statement <br>\n",
    " &nbsp;&nbsp;&nbsp;&nbsp; e) Double For Loops <br>\n",
    "10) While Loops <br>\n",
    " &nbsp;&nbsp;&nbsp;&nbsp; a) Looping 'While True' <br>\n",
    " &nbsp;&nbsp;&nbsp;&nbsp; b) While and For Loops Used Together <br>\n",
    "11) Built-In Functions <br>\n",
    " &nbsp;&nbsp;&nbsp;&nbsp; a) range() <br>\n",
    " &nbsp;&nbsp;&nbsp;&nbsp; b) len() <br>\n",
    " &nbsp;&nbsp;&nbsp;&nbsp; c) help() <br>\n",
    " &nbsp;&nbsp;&nbsp;&nbsp; d) isinstance() <br>\n",
    " &nbsp;&nbsp;&nbsp;&nbsp; e) abs() <br>\n",
    "12) Try and Except <br>\n",
    "13) Lists <br>\n",
    " &nbsp;&nbsp;&nbsp;&nbsp; a) Declaring Lists <br>\n",
    " &nbsp;&nbsp;&nbsp;&nbsp; b) Indexing a List <br>\n",
    " &nbsp;&nbsp;&nbsp;&nbsp; c) .append() <br>\n",
    " &nbsp;&nbsp;&nbsp;&nbsp; d) .insert() <br>\n",
    " &nbsp;&nbsp;&nbsp;&nbsp; e) .pop() <br>\n",
    " &nbsp;&nbsp;&nbsp;&nbsp; f) .remove() <br>\n",
    " &nbsp;&nbsp;&nbsp;&nbsp; g) del() <br>\n",
    " &nbsp;&nbsp;&nbsp;&nbsp; h) Concatenating Two Lists <br>\n",
    " &nbsp;&nbsp;&nbsp;&nbsp; i) Lists Within Lists <br>\n",
    " &nbsp;&nbsp;&nbsp;&nbsp; j) Looping Through Lists <br>"
   ]
  },
  {
   "cell_type": "markdown",
   "metadata": {},
   "source": [
    "### Int & Float Assignments"
   ]
  },
  {
   "cell_type": "markdown",
   "metadata": {},
   "source": [
    "##### Assigning int"
   ]
  },
  {
   "cell_type": "markdown",
   "metadata": {},
   "source": []
  },
  {
   "cell_type": "code",
   "execution_count": 1,
   "metadata": {},
   "outputs": [
    {
     "name": "stdout",
     "output_type": "stream",
     "text": [
      "6\n"
     ]
    }
   ],
   "source": [
    "number = 6\n",
    "print(number)"
   ]
  },
  {
   "cell_type": "markdown",
   "metadata": {},
   "source": [
    "##### Assinging float"
   ]
  },
  {
   "cell_type": "code",
   "execution_count": 2,
   "metadata": {},
   "outputs": [
    {
     "name": "stdout",
     "output_type": "stream",
     "text": [
      "2.3\n"
     ]
    },
    {
     "data": {
      "text/plain": [
       "float"
      ]
     },
     "execution_count": 2,
     "metadata": {},
     "output_type": "execute_result"
    }
   ],
   "source": [
    "my_float= 2.3\n",
    "print(my_float)\n",
    "my_float=2.\n",
    "type(my_float)\n"
   ]
  },
  {
   "cell_type": "markdown",
   "metadata": {},
   "source": [
    "#### Performing Calculations on ints and floats"
   ]
  },
  {
   "cell_type": "markdown",
   "metadata": {},
   "source": [
    "##### Addition"
   ]
  },
  {
   "cell_type": "code",
   "execution_count": 3,
   "metadata": {},
   "outputs": [
    {
     "name": "stdout",
     "output_type": "stream",
     "text": [
      "7.7\n"
     ]
    }
   ],
   "source": [
    "num1=2\n",
    "num2= 5.7\n",
    "\n",
    "result=num1+num2\n",
    "print(result)"
   ]
  },
  {
   "cell_type": "markdown",
   "metadata": {},
   "source": [
    "##### Subtraction"
   ]
  },
  {
   "cell_type": "code",
   "execution_count": 4,
   "metadata": {},
   "outputs": [
    {
     "name": "stdout",
     "output_type": "stream",
     "text": [
      "3.7\n",
      "1.7000000000000002\n"
     ]
    }
   ],
   "source": [
    "result_diff =num2-num1\n",
    "print(result_diff)\n",
    "\n",
    "result_diff -=2\n",
    "print(result_diff)"
   ]
  },
  {
   "cell_type": "markdown",
   "metadata": {},
   "source": [
    "##### Multiplication"
   ]
  },
  {
   "cell_type": "code",
   "execution_count": 5,
   "metadata": {},
   "outputs": [
    {
     "name": "stdout",
     "output_type": "stream",
     "text": [
      "30\n"
     ]
    },
    {
     "ename": "NameError",
     "evalue": "name 'result_div' is not defined",
     "output_type": "error",
     "traceback": [
      "\u001b[0;31m---------------------------------------------------------------------------\u001b[0m",
      "\u001b[0;31mNameError\u001b[0m                                 Traceback (most recent call last)",
      "\u001b[0;32m<ipython-input-5-bf5078914f94>\u001b[0m in \u001b[0;36m<module>\u001b[0;34m\u001b[0m\n\u001b[1;32m      6\u001b[0m \u001b[0;34m\u001b[0m\u001b[0m\n\u001b[1;32m      7\u001b[0m \u001b[0mresult_prod\u001b[0m\u001b[0;34m*=\u001b[0m\u001b[0;36m2\u001b[0m\u001b[0;34m\u001b[0m\u001b[0;34m\u001b[0m\u001b[0m\n\u001b[0;32m----> 8\u001b[0;31m \u001b[0mprint\u001b[0m\u001b[0;34m(\u001b[0m\u001b[0mresult_div\u001b[0m\u001b[0;34m)\u001b[0m\u001b[0;34m\u001b[0m\u001b[0;34m\u001b[0m\u001b[0m\n\u001b[0m",
      "\u001b[0;31mNameError\u001b[0m: name 'result_div' is not defined"
     ]
    }
   ],
   "source": [
    "num3=3\n",
    "num4=10\n",
    "\n",
    "result_prod=num3 * num4\n",
    "print(result_prod)\n",
    "\n",
    "result_prod*=2\n",
    "print(result_div)"
   ]
  },
  {
   "cell_type": "markdown",
   "metadata": {},
   "source": [
    "##### Division"
   ]
  },
  {
   "cell_type": "code",
   "execution_count": null,
   "metadata": {},
   "outputs": [],
   "source": [
    "result_div =num4/num3\n",
    "print(result_div)"
   ]
  },
  {
   "cell_type": "markdown",
   "metadata": {},
   "source": [
    "##### Floor Division"
   ]
  },
  {
   "cell_type": "code",
   "execution_count": null,
   "metadata": {},
   "outputs": [],
   "source": [
    "result_floor=5//2\n",
    "print(result_floor)"
   ]
  },
  {
   "cell_type": "markdown",
   "metadata": {},
   "source": [
    "##### Modulo"
   ]
  },
  {
   "cell_type": "code",
   "execution_count": null,
   "metadata": {},
   "outputs": [],
   "source": [
    "result_mod=5%2\n",
    "print(result_mod)\n",
    "\n",
    "num=7\n",
    "if num % 2==0:\n",
    "    print(\"even\")\n",
    "else:\n",
    "    print(\"odd\")\n"
   ]
  },
  {
   "cell_type": "markdown",
   "metadata": {},
   "source": [
    "##### Exponential"
   ]
  },
  {
   "cell_type": "code",
   "execution_count": 9,
   "metadata": {},
   "outputs": [
    {
     "name": "stdout",
     "output_type": "stream",
     "text": [
      "25\n"
     ]
    }
   ],
   "source": [
    "x=5\n",
    "square=x**2\n",
    "print(square)"
   ]
  },
  {
   "cell_type": "markdown",
   "metadata": {},
   "source": [
    "### String Input-Output"
   ]
  },
  {
   "cell_type": "markdown",
   "metadata": {},
   "source": [
    "##### String Assignment"
   ]
  },
  {
   "cell_type": "code",
   "execution_count": null,
   "metadata": {},
   "outputs": [],
   "source": [
    "name=\"Kevin\"\n",
    "print(name)\n",
    "\n",
    "name=\"kevin's\"\n",
    "print(name)\n",
    "\n",
    "word='he said \"what\\'s up\"'\n",
    "print(word)"
   ]
  },
  {
   "cell_type": "markdown",
   "metadata": {},
   "source": [
    "##### print() <br>\n",
    "<p>Don't forget about end=' '</p>"
   ]
  },
  {
   "cell_type": "code",
   "execution_count": null,
   "metadata": {},
   "outputs": [],
   "source": [
    "name=\"Kevin\"\n",
    "print(\"this is my first name:\",name, \"\\nthanks\")\n",
    "print(\"hello\")\n",
    "print(\"hello\", end=\"\\n\")\n",
    "\n",
    "print(\"no spaces\", end=\"\")\n",
    "print(\"no space\", end=\"\")\n"
   ]
  },
  {
   "cell_type": "markdown",
   "metadata": {},
   "source": [
    "##### String Concatenation"
   ]
  },
  {
   "cell_type": "code",
   "execution_count": null,
   "metadata": {},
   "outputs": [],
   "source": [
    "first=\"Mark\"\n",
    "last=\"Gerlach\"\n",
    "full_name= first+last\n",
    "print(full_name)\n",
    "\n",
    "full_name= first + \" \" + last\n",
    "print(full_name)\n"
   ]
  },
  {
   "cell_type": "markdown",
   "metadata": {},
   "source": [
    "##### Type Conversion"
   ]
  },
  {
   "cell_type": "code",
   "execution_count": null,
   "metadata": {},
   "outputs": [],
   "source": [
    "num= \"32\"\n",
    "print(type(num))\n",
    "change_type=int(num)\n",
    "print(change_type)\n",
    "print(type(change_type))\n",
    "\n",
    "num1=\"4\"\n",
    "num2= 6\n",
    "int(num1)+num2\n",
    "\n",
    "# dict(), list(), tuple(), float(), int(), str(), set()"
   ]
  },
  {
   "cell_type": "markdown",
   "metadata": {},
   "source": [
    "##### input()"
   ]
  },
  {
   "cell_type": "code",
   "execution_count": null,
   "metadata": {},
   "outputs": [],
   "source": [
    "age=int(input(\"what is your age? \"))\n",
    "print(type(age))\n",
    "\n",
    "print(\"your age is\" , age)"
   ]
  },
  {
   "cell_type": "code",
   "execution_count": null,
   "metadata": {},
   "outputs": [],
   "source": []
  },
  {
   "cell_type": "markdown",
   "metadata": {},
   "source": [
    "##### format()"
   ]
  },
  {
   "cell_type": "code",
   "execution_count": null,
   "metadata": {},
   "outputs": [],
   "source": [
    "age= input(\"What is your age\")\n",
    "result_string= \"Your are{} years old and you are getting wiser!\" .format(age)\n",
    "print(result_string)\n",
    "\n",
    "#f-string!!\n",
    "result_string=f\"you are{} years old and you are getting wider!\"\n",
    "print(result_string)"
   ]
  },
  {
   "cell_type": "markdown",
   "metadata": {},
   "source": [
    "##### Old Way (python 2)"
   ]
  },
  {
   "cell_type": "markdown",
   "metadata": {},
   "source": [
    "age=\"35\"\n",
    "result_str=\"you are %s and you look great for your age\" %age\n",
    "print(result_str)"
   ]
  },
  {
   "cell_type": "code",
   "execution_count": null,
   "metadata": {},
   "outputs": [],
   "source": [
    "# In-Class Exercise 1 <br>\n",
    "<p>Create a format statement that asks for color, year, make, model and prints out the results</p>"
   ]
  },
  {
   "cell_type": "code",
   "execution_count": null,
   "metadata": {},
   "outputs": [],
   "source": [
    "car_color=input(\"What color is your car? \")\n",
    "car_year=input(\"What year is your car? \")\n",
    "make_car=input(\"What make is your car?\")\n",
    "model_car= inut(\"what model is your car\")\n",
    "print(f\"your drive a {year}{make}{model} that is painted {color}!\")"
   ]
  },
  {
   "cell_type": "markdown",
   "metadata": {},
   "source": [
    "### If Statements"
   ]
  },
  {
   "cell_type": "code",
   "execution_count": null,
   "metadata": {},
   "outputs": [],
   "source": [
    "#True/ False\n",
    "#boolean evaluates to True or False capital letter \n",
    "#opeators \n",
    "#greater than >\n",
    "#less than <\n",
    "#Equal ==\n",
    "#greater or equal >=\n",
    "#less than or equal <=\n",
    "#not equal != (or not==)\n",
    "\n",
    "num1=5\n",
    "num2=10\n",
    "\n",
    "if num1== num2: #(if this is true then do : what comes after :)\n",
    "#    code block\n",
    "    print(\"equal\")\n",
    "else:\n",
    "    print(\"not equal\")\n",
    "    \n",
    "if num1>num2:\n",
    "    print(\"num1 is greater\")\n",
    "elif num1<num2:\n",
    "    print(\"num1 is less\")\n",
    "else:\n",
    "    print(\"are equal\")\n",
    "\n",
    "# and & or \n",
    "if num1 == and num2>12:\n",
    "    print(\"sometihng\")\n",
    "else: \n",
    "    print(\"nothing\")\n",
    "    "
   ]
  },
  {
   "cell_type": "markdown",
   "metadata": {},
   "source": [
    "##### 'is' keyword"
   ]
  },
  {
   "cell_type": "code",
   "execution_count": null,
   "metadata": {},
   "outputs": [],
   "source": [
    "#Ternary Operator.. this is how you write an if statement inline\n",
    "#[value if true][if][boolean][else][value if false]\n",
    "name=\"john\"\n",
    "\n",
    "my_num=5 if name ==\"steve\" else 0 #can leave 0 or type none\n",
    "print(my_num)\n",
    "\n",
    "my_num =5 if name==\"steve\" else 10 if name==\"john\" else 0\n",
    "print(my_num)"
   ]
  },
  {
   "cell_type": "code",
   "execution_count": null,
   "metadata": {
    "scrolled": true
   },
   "outputs": [],
   "source": [
    "#check if the two objects are the same.\n",
    "#generally dont us IS unless you are asking is NONE\n",
    "\n",
    "y=\"None\"\n",
    "if y is None:\n",
    "    print(\"y is None\")\n",
    "    \n",
    "\n",
    "    \n",
    "\n",
    "\n",
    "list1=[]\n",
    "list2=[]\n",
    "list3=list1\n",
    "\n",
    "if list1==list2\n",
    "    print(\"true\")\n",
    "else: \n",
    "    print(\"false\")\n",
    "    \n",
    "if list1 is list2:\n",
    "        print(\"true\")\n",
    "else:\n",
    "    print(\"false\")\n",
    "    \n",
    "print(list1==list3)\n",
    "print(list is list3)\n",
    "\n",
    "          "
   ]
  },
  {
   "cell_type": "markdown",
   "metadata": {},
   "source": [
    "##### 'in' keyword"
   ]
  },
  {
   "cell_type": "code",
   "execution_count": null,
   "metadata": {},
   "outputs": [],
   "source": [
    "#check if a character is in a name\n",
    "# under the hood using in with a list or a string is actuall looping\n",
    "char_name= \"Max Payne\"\n",
    "\n",
    "if \"Max\" in char_name:\n",
    "    print(\"The character who lost everything..\")\n",
    "    \n",
    "for letter in char_name:\n",
    "    if letter=\"a\"\n",
    "        return True"
   ]
  },
  {
   "cell_type": "markdown",
   "metadata": {},
   "source": [
    "##### 'not in' keyword'"
   ]
  },
  {
   "cell_type": "code",
   "execution_count": null,
   "metadata": {},
   "outputs": [],
   "source": [
    "sega_char=\"Sonic\"\n",
    "if \"a\" not in sega_char:\n",
    "    print(\"a is NOT in the name..!\")"
   ]
  },
  {
   "cell_type": "markdown",
   "metadata": {},
   "source": [
    "# In-Class Exercise 2 <br>\n",
    "<p>Ask user for input, check to see if the letter 'p' is in the input</p>"
   ]
  },
  {
   "cell_type": "code",
   "execution_count": null,
   "metadata": {},
   "outputs": [],
   "source": [
    "user=input(\"what is your name? \")\n",
    "if \"p\" in user:\n",
    "    print(True)\n",
    "#case sensative"
   ]
  },
  {
   "cell_type": "markdown",
   "metadata": {},
   "source": [
    "## Using 'and'/'or' with If Statements"
   ]
  },
  {
   "cell_type": "code",
   "execution_count": null,
   "metadata": {},
   "outputs": [],
   "source": []
  },
  {
   "cell_type": "markdown",
   "metadata": {},
   "source": [
    "### Elif Statements"
   ]
  },
  {
   "cell_type": "code",
   "execution_count": null,
   "metadata": {},
   "outputs": [],
   "source": []
  },
  {
   "cell_type": "markdown",
   "metadata": {},
   "source": [
    "### Else Statements"
   ]
  },
  {
   "cell_type": "code",
   "execution_count": null,
   "metadata": {},
   "outputs": [],
   "source": []
  },
  {
   "cell_type": "markdown",
   "metadata": {},
   "source": [
    "### For Loops"
   ]
  },
  {
   "cell_type": "code",
   "execution_count": null,
   "metadata": {},
   "outputs": [],
   "source": [
    "#for placeholder, in, [iterable]\n",
    "for i in range (10):\n",
    "    print(i)\n",
    "    \n",
    "#if word, it is spelled down the column    \n",
    "name=\"christina\"\n",
    "for letter in name:\n",
    "        print(letter)\n",
    "        \n",
    "#index start at 0-pizza        \n",
    "foods=[\"pizza\", \"tacos\", \"dimsum\", \"sushi\"]\n",
    "for food in foods:\n",
    "    print(food.title())\n",
    "    \n",
    "foods[2]    \n",
    "\n",
    "\n",
    "list(range(len(foods)))\n",
    "\n",
    "\n",
    "for index in range(len(foods)):\n",
    "    print(index)\n",
    "    print(foods[index])\n",
    "#access index and object is to use enumerate\n",
    "\n",
    "for tuple in enumerate(foods):\n",
    "    print(tuple)\n",
    "    \n",
    "for index, food in enumerate(foods):\n",
    "    print(f\"the food at index {index} is {food}\")\n"
   ]
  },
  {
   "cell_type": "markdown",
   "metadata": {},
   "source": [
    "##### Using 'in' keyword"
   ]
  },
  {
   "cell_type": "code",
   "execution_count": null,
   "metadata": {},
   "outputs": [],
   "source": []
  },
  {
   "cell_type": "markdown",
   "metadata": {},
   "source": [
    "##### Continue Statement"
   ]
  },
  {
   "cell_type": "code",
   "execution_count": null,
   "metadata": {},
   "outputs": [],
   "source": [
    "# it will contuinure the next iteration\n",
    "\n",
    "#anything after == is skipped. (at this iteation skipp it)\n",
    "for i in range(10):\n",
    "    if i==5:\n",
    "        continue\n",
    "    print(i)    "
   ]
  },
  {
   "cell_type": "code",
   "execution_count": null,
   "metadata": {},
   "outputs": [],
   "source": []
  },
  {
   "cell_type": "markdown",
   "metadata": {},
   "source": [
    "##### Break Statement"
   ]
  },
  {
   "cell_type": "code",
   "execution_count": null,
   "metadata": {},
   "outputs": [],
   "source": [
    "if i in range(10):\n",
    "    if i== 5:\n",
    "        break\n",
    "    print(i)"
   ]
  },
  {
   "cell_type": "code",
   "execution_count": null,
   "metadata": {},
   "outputs": [],
   "source": []
  },
  {
   "cell_type": "code",
   "execution_count": null,
   "metadata": {},
   "outputs": [],
   "source": []
  },
  {
   "cell_type": "code",
   "execution_count": null,
   "metadata": {},
   "outputs": [],
   "source": []
  },
  {
   "cell_type": "code",
   "execution_count": null,
   "metadata": {},
   "outputs": [],
   "source": []
  },
  {
   "cell_type": "markdown",
   "metadata": {},
   "source": [
    "##### Pass Statement"
   ]
  },
  {
   "cell_type": "code",
   "execution_count": null,
   "metadata": {},
   "outputs": [],
   "source": [
    "for x in [1,2,3,4]:\n",
    "    pass #just a placeholder, prevents code from running.\n",
    "print(\"Hello\")"
   ]
  },
  {
   "cell_type": "code",
   "execution_count": null,
   "metadata": {},
   "outputs": [],
   "source": []
  },
  {
   "cell_type": "markdown",
   "metadata": {},
   "source": [
    "##### Double For Loops"
   ]
  },
  {
   "cell_type": "code",
   "execution_count": 70,
   "metadata": {},
   "outputs": [
    {
     "name": "stdout",
     "output_type": "stream",
     "text": [
      "i=0,j=0\n",
      "i=0,j=1\n",
      "i=0,j=2\n",
      "i=0,j=3\n",
      "i=0,j=4\n",
      "i=1,j=0\n",
      "i=1,j=1\n",
      "i=1,j=2\n",
      "i=1,j=3\n",
      "i=1,j=4\n",
      "i=2,j=0\n",
      "i=2,j=1\n",
      "i=2,j=2\n",
      "i=2,j=3\n",
      "i=2,j=4\n",
      "i=3,j=0\n",
      "i=3,j=1\n",
      "i=3,j=2\n",
      "i=3,j=3\n",
      "i=3,j=4\n",
      "i=4,j=0\n",
      "i=4,j=1\n",
      "i=4,j=2\n",
      "i=4,j=3\n",
      "i=4,j=4\n"
     ]
    }
   ],
   "source": [
    "for i in range (5):\n",
    "    for j in range(5):\n",
    "\n",
    "        print(f'i={i},j={j}')"
   ]
  },
  {
   "cell_type": "markdown",
   "metadata": {},
   "source": [
    "### While Loops"
   ]
  },
  {
   "cell_type": "code",
   "execution_count": null,
   "metadata": {},
   "outputs": [],
   "source": [
    "num=0\n",
    "while num<10:\n",
    "    print(num)\n",
    "    num+= 1\n",
    "    \n",
    "    \n",
    "game_over= False\n",
    "while not game_over:   \n",
    "    user_input= input(\"what do you want to do? quit or continue?\" )\n",
    "    if user_input.lower()== \"quit\":\n",
    "        game_over= True\n",
    "    else:\n",
    "        continue\n",
    "print(\"i'll still run after quit\")"
   ]
  },
  {
   "cell_type": "markdown",
   "metadata": {},
   "source": [
    "##### Looping 'While True'"
   ]
  },
  {
   "cell_type": "code",
   "execution_count": null,
   "metadata": {},
   "outputs": [],
   "source": [
    "while True:\n",
    "    user_input=input(\"what do you want to do? quit or contiunue\")\n",
    "    if user_input.lower() == \"quit\":\n",
    "        break\n",
    "    print(\"will i print???\")    "
   ]
  },
  {
   "cell_type": "markdown",
   "metadata": {},
   "source": [
    "##### While & For Loops Used Together"
   ]
  },
  {
   "cell_type": "code",
   "execution_count": null,
   "metadata": {},
   "outputs": [],
   "source": [
    "num=0\n",
    "while num<5:\n",
    "    print(\"While loop iteration: \" num)\n",
    "    for i in range(5):\n",
    "            print(\"For Loop Iteration: \"i)\n",
    "                num += 1\n",
    "        "
   ]
  },
  {
   "cell_type": "markdown",
   "metadata": {},
   "source": [
    "### Built-In Functions"
   ]
  },
  {
   "cell_type": "markdown",
   "metadata": {},
   "source": [
    "##### range()"
   ]
  },
  {
   "cell_type": "code",
   "execution_count": 65,
   "metadata": {},
   "outputs": [
    {
     "data": {
      "text/plain": [
       "[10, 9, 8, 7, 6]"
      ]
     },
     "execution_count": 65,
     "metadata": {},
     "output_type": "execute_result"
    }
   ],
   "source": [
    "#start, stop, step\n",
    "\n",
    "list(range(5))\n",
    "\n",
    "list(range(5,10))\n",
    "\n",
    "list(range(5,10,2))\n",
    "\n",
    "list(range(10,5,-1))"
   ]
  },
  {
   "cell_type": "markdown",
   "metadata": {},
   "source": [
    "##### len()"
   ]
  },
  {
   "cell_type": "code",
   "execution_count": null,
   "metadata": {},
   "outputs": [],
   "source": [
    "len(\"hello\") #how many in parenthese"
   ]
  },
  {
   "cell_type": "markdown",
   "metadata": {},
   "source": [
    "##### help()"
   ]
  },
  {
   "cell_type": "code",
   "execution_count": null,
   "metadata": {},
   "outputs": [],
   "source": [
    " help(len)\n",
    "help(int)\n",
    "help(list)\n"
   ]
  },
  {
   "cell_type": "markdown",
   "metadata": {},
   "source": [
    "##### isinstance()"
   ]
  },
  {
   "cell_type": "code",
   "execution_count": null,
   "metadata": {},
   "outputs": [],
   "source": [
    "#returns boolean t/f output \n",
    "#isinstance(var,type)\n",
    "num=3\n",
    "print(isinstance(num,int))\n",
    "print(isinstance(num,str))"
   ]
  },
  {
   "cell_type": "markdown",
   "metadata": {},
   "source": [
    "##### abs()"
   ]
  },
  {
   "cell_type": "code",
   "execution_count": null,
   "metadata": {},
   "outputs": [],
   "source": [
    "# -5 =5 which measure the dist from zero\n",
    "\n",
    "print(abs(-5))\n",
    "print(abs(5))"
   ]
  },
  {
   "cell_type": "markdown",
   "metadata": {},
   "source": [
    "### Try and Except"
   ]
  },
  {
   "cell_type": "code",
   "execution_count": null,
   "metadata": {
    "scrolled": true
   },
   "outputs": [],
   "source": [
    "#use when trying to fix a bug or actually it is an error handler --- only for errors that are uncommon \n",
    "\n",
    "try:\n",
    "    number_test= 0\n",
    "    input_num=int(input(\"guess a Number: \"))\n",
    "    if input_num != number_test:\n",
    "        input_num= input_num + number_test\n",
    "        print(f'your number is: {input_num}')\n",
    "except:\n",
    "    print(\"That didn't work, make sure your input is a number\")\n",
    "\n",
    "    \n",
    "    \n",
    "def divide(num1, num2):\n",
    "    try:\n",
    "        print(num1/num2)\n",
    "    except ZeroDivisionError:\n",
    "        print(0)\n",
    "    except TypeError:\n",
    "        print(\"sorry i need numbers\")\n",
    "        \n",
    "divide(1,\"2\")"
   ]
  },
  {
   "cell_type": "markdown",
   "metadata": {},
   "source": [
    "### Lists"
   ]
  },
  {
   "cell_type": "markdown",
   "metadata": {},
   "source": [
    "##### Declaring Lists"
   ]
  },
  {
   "cell_type": "code",
   "execution_count": null,
   "metadata": {},
   "outputs": [],
   "source": [
    "names=[\"Max\", \"Cindy\", \"Kathy\", \"Brad\"]\n",
    "print(names)"
   ]
  },
  {
   "cell_type": "code",
   "execution_count": null,
   "metadata": {},
   "outputs": [],
   "source": [
    "a_list=[1,2.5, [1,2,3], \"string\"]"
   ]
  },
  {
   "cell_type": "markdown",
   "metadata": {},
   "source": [
    "##### Indexing a List"
   ]
  },
  {
   "cell_type": "code",
   "execution_count": null,
   "metadata": {},
   "outputs": [],
   "source": [
    "#slicing [start:end:step]\n",
    "print(\n",
    "    names[1:3]) #print two names in list with : however second number has regular count starting from 1 at beginning\n",
    "\n",
    "print(names[:3])\n",
    "print(names[::2]) #zero zero three\n",
    "print(names[::-1]) #reverse\n",
    "\n",
    "\n",
    "my_string=\"racecar\"[::-1]\n",
    "if my_string== my_strinf[::-1]\n",
    "    print(\"palindrome\")"
   ]
  },
  {
   "cell_type": "code",
   "execution_count": null,
   "metadata": {},
   "outputs": [],
   "source": []
  },
  {
   "cell_type": "markdown",
   "metadata": {},
   "source": [
    "##### .append()"
   ]
  },
  {
   "cell_type": "code",
   "execution_count": null,
   "metadata": {},
   "outputs": [],
   "source": [
    "#works in place\n",
    "names.append(\"Austin\")\n",
    "print(names)\n"
   ]
  },
  {
   "cell_type": "markdown",
   "metadata": {},
   "source": [
    "##### .insert()"
   ]
  },
  {
   "cell_type": "code",
   "execution_count": null,
   "metadata": {},
   "outputs": [],
   "source": [
    "names.insert(1,\"Anu\") #at position 1 add Anu\n",
    "print(names)\n",
    "\n",
    "names[2]=\"Natasha\"  #changes index 2 to this new name"
   ]
  },
  {
   "cell_type": "markdown",
   "metadata": {},
   "source": [
    "##### .pop()"
   ]
  },
  {
   "cell_type": "code",
   "execution_count": null,
   "metadata": {},
   "outputs": [],
   "source": [
    "print(names.pop()) #removes last element.. can also change number to pop too counts from end of list. \n",
    "print(names) #prints names without the popped item"
   ]
  },
  {
   "cell_type": "markdown",
   "metadata": {},
   "source": [
    "\n",
    "##### .remove()"
   ]
  },
  {
   "cell_type": "code",
   "execution_count": null,
   "metadata": {},
   "outputs": [],
   "source": [
    "#remove by value\n",
    "my_list=[\"A\",\"B\", \"C\", \"D\", \"B\"]\n",
    "my_list.remove(\"B\") #only removes the first one not all B. dont use in for loops ! \n",
    "print(my_list)\n"
   ]
  },
  {
   "cell_type": "markdown",
   "metadata": {},
   "source": [
    "##### del()"
   ]
  },
  {
   "cell_type": "code",
   "execution_count": null,
   "metadata": {},
   "outputs": [],
   "source": [
    "#remove by index\n",
    "\n",
    "my_list=[\"A\",\"B\", \"C\", \"D\", \"B\"]\n",
    "del my_list[2]\n",
    "my_list\n",
    "\n",
    "\n",
    "for i in range(len(names)):\n",
    "    if i==2:\n",
    "        del names[i]"
   ]
  },
  {
   "cell_type": "markdown",
   "metadata": {},
   "source": [
    "##### Concatenating Two Lists"
   ]
  },
  {
   "cell_type": "code",
   "execution_count": null,
   "metadata": {},
   "outputs": [],
   "source": [
    "l_2 =[0,1,2]\n",
    "l_3= [3,4,5]\n",
    "\n",
    "large_list= l_2 + l_3\n",
    "print(large_list)"
   ]
  },
  {
   "cell_type": "markdown",
   "metadata": {},
   "source": [
    "##### Lists Within Lists"
   ]
  },
  {
   "cell_type": "code",
   "execution_count": null,
   "metadata": {},
   "outputs": [],
   "source": [
    "my_nested_list=[\"Max\",\"Sallt\", \"JAson\", [1,2,3], \"Jessica\"]\n",
    "my_nested_list[3][1] #this is a list is being indexed into eachother to pull out that index"
   ]
  },
  {
   "cell_type": "markdown",
   "metadata": {},
   "source": [
    "##### Looping Through Lists"
   ]
  },
  {
   "cell_type": "code",
   "execution_count": null,
   "metadata": {},
   "outputs": [],
   "source": [
    "\n"
   ]
  },
  {
   "cell_type": "markdown",
   "metadata": {},
   "source": [
    "## Exercise #1 <br>\n",
    "<p>Cube Number Test... Print out all cubed numbers up to the total value 1000, so if the cubed number is over 1000 break the loop.</p> \n",
    "\n",
    "\n"
   ]
  },
  {
   "cell_type": "code",
   "execution_count": 64,
   "metadata": {
    "scrolled": true
   },
   "outputs": [
    {
     "name": "stdout",
     "output_type": "stream",
     "text": [
      "1\n",
      "8\n",
      "27\n",
      "64\n",
      "125\n",
      "216\n",
      "343\n",
      "512\n",
      "729\n",
      "1000\n"
     ]
    }
   ],
   "source": [
    "x=1\n",
    "cube=0\n",
    "while True:\n",
    "    if cube>= 1000:\n",
    "        break  \n",
    "    else:\n",
    "        cube= x**3\n",
    "        print (cube)\n",
    "        x=x+1\n",
    "        \n",
    "      \n"
   ]
  },
  {
   "cell_type": "code",
   "execution_count": null,
   "metadata": {},
   "outputs": [],
   "source": []
  },
  {
   "cell_type": "markdown",
   "metadata": {},
   "source": [
    "## Exercise #2 <br>\n",
    "<p>Get first prime numbers up to 100</p>\n",
    "\n",
    "Hint: a prime number is any number that is only divisible by 1 and itself. For each number up to 100, check to see if that number is divisible by any number in a range(2, number). if so, it is not a prime number. If not, it is prime.\n"
   ]
  },
  {
   "cell_type": "markdown",
   "metadata": {},
   "source": []
  },
  {
   "cell_type": "code",
   "execution_count": 104,
   "metadata": {},
   "outputs": [
    {
     "name": "stdout",
     "output_type": "stream",
     "text": [
      "2 is prime\n",
      "3 is not prime\n",
      "4 is prime\n",
      "4 is not prime\n",
      "5 is not prime\n",
      "6 is prime\n",
      "6 is prime\n",
      "6 is not prime\n",
      "7 is not prime\n",
      "8 is prime\n",
      "8 is not prime\n",
      "9 is not prime\n",
      "10 is prime\n",
      "10 is not prime\n",
      "11 is not prime\n",
      "12 is prime\n",
      "12 is prime\n",
      "12 is prime\n",
      "12 is not prime\n",
      "13 is not prime\n",
      "14 is prime\n",
      "14 is not prime\n",
      "15 is not prime\n",
      "16 is prime\n",
      "16 is not prime\n",
      "17 is not prime\n",
      "18 is prime\n",
      "18 is prime\n",
      "18 is not prime\n",
      "19 is not prime\n",
      "20 is prime\n",
      "20 is not prime\n",
      "21 is not prime\n",
      "22 is prime\n",
      "22 is not prime\n",
      "23 is not prime\n",
      "24 is prime\n",
      "24 is prime\n",
      "24 is prime\n",
      "24 is not prime\n",
      "25 is not prime\n",
      "26 is prime\n",
      "26 is not prime\n",
      "27 is not prime\n",
      "28 is prime\n",
      "28 is not prime\n",
      "29 is not prime\n",
      "30 is prime\n",
      "30 is prime\n",
      "30 is not prime\n",
      "31 is not prime\n",
      "32 is prime\n",
      "32 is not prime\n",
      "33 is not prime\n",
      "34 is prime\n",
      "34 is not prime\n",
      "35 is not prime\n",
      "36 is prime\n",
      "36 is prime\n",
      "36 is prime\n",
      "36 is not prime\n",
      "37 is not prime\n",
      "38 is prime\n",
      "38 is not prime\n",
      "39 is not prime\n",
      "40 is prime\n",
      "40 is not prime\n",
      "41 is not prime\n",
      "42 is prime\n",
      "42 is prime\n",
      "42 is not prime\n",
      "43 is not prime\n",
      "44 is prime\n",
      "44 is not prime\n",
      "45 is not prime\n",
      "46 is prime\n",
      "46 is not prime\n",
      "47 is not prime\n",
      "48 is prime\n",
      "48 is prime\n",
      "48 is prime\n",
      "48 is not prime\n",
      "49 is not prime\n",
      "50 is prime\n",
      "50 is not prime\n",
      "51 is not prime\n",
      "52 is prime\n",
      "52 is not prime\n",
      "53 is not prime\n",
      "54 is prime\n",
      "54 is prime\n",
      "54 is not prime\n",
      "55 is not prime\n",
      "56 is prime\n",
      "56 is not prime\n",
      "57 is not prime\n",
      "58 is prime\n",
      "58 is not prime\n",
      "59 is not prime\n",
      "60 is prime\n",
      "60 is prime\n",
      "60 is prime\n",
      "60 is prime\n",
      "60 is prime\n",
      "60 is not prime\n",
      "61 is not prime\n",
      "62 is prime\n",
      "62 is not prime\n",
      "63 is not prime\n",
      "64 is prime\n",
      "64 is not prime\n",
      "65 is not prime\n",
      "66 is prime\n",
      "66 is prime\n",
      "66 is not prime\n",
      "67 is not prime\n",
      "68 is prime\n",
      "68 is not prime\n",
      "69 is not prime\n",
      "70 is prime\n",
      "70 is not prime\n",
      "71 is not prime\n",
      "72 is prime\n",
      "72 is prime\n",
      "72 is prime\n",
      "72 is not prime\n",
      "73 is not prime\n",
      "74 is prime\n",
      "74 is not prime\n",
      "75 is not prime\n",
      "76 is prime\n",
      "76 is not prime\n",
      "77 is not prime\n",
      "78 is prime\n",
      "78 is prime\n",
      "78 is not prime\n",
      "79 is not prime\n",
      "80 is prime\n",
      "80 is not prime\n",
      "81 is not prime\n",
      "82 is prime\n",
      "82 is not prime\n",
      "83 is not prime\n",
      "84 is prime\n",
      "84 is prime\n",
      "84 is prime\n",
      "84 is not prime\n",
      "85 is not prime\n",
      "86 is prime\n",
      "86 is not prime\n",
      "87 is not prime\n",
      "88 is prime\n",
      "88 is not prime\n",
      "89 is not prime\n",
      "90 is prime\n",
      "90 is prime\n",
      "90 is not prime\n",
      "91 is not prime\n",
      "92 is prime\n",
      "92 is not prime\n",
      "93 is not prime\n",
      "94 is prime\n",
      "94 is not prime\n",
      "95 is not prime\n",
      "96 is prime\n",
      "96 is prime\n",
      "96 is prime\n",
      "96 is not prime\n",
      "97 is not prime\n",
      "98 is prime\n",
      "98 is not prime\n",
      "99 is not prime\n",
      "100 is prime\n",
      "100 is not prime\n"
     ]
    }
   ],
   "source": [
    "#can't figure this one out.\n",
    "for number in range(2,101):\n",
    "    for value in range(2,101):\n",
    "        if number == value:\n",
    "            print(str(number) + ' is prime')\n",
    "            break\n",
    "        elif number%value==0:\n",
    "            print(str(number) + ' is prime')\n",
    "            continue\n",
    "        else:\n",
    "            print(str(number) +\" is not prime\")\n",
    "            break\n",
    "            "
   ]
  },
  {
   "cell_type": "markdown",
   "metadata": {},
   "source": [
    "# Exercise 3 <br>\n",
    "<p>Take in a users input for their age, if they are younger than 18 print kids, if they're 18 to 65 print adults, else print seniors</p>"
   ]
  },
  {
   "cell_type": "code",
   "execution_count": 50,
   "metadata": {},
   "outputs": [
    {
     "name": "stdout",
     "output_type": "stream",
     "text": [
      "What is your age? 20\n",
      "Adults\n",
      "20\n"
     ]
    }
   ],
   "source": [
    "age=int(input(\"What is your age? \"))\n",
    "if age < 18 :\n",
    "    print(\"Kids\")\n",
    "elif (age >= 18 )and (age <= 65):\n",
    "    print(\"Adults\")\n",
    "else:\n",
    "    print(\"Seniors\")\n",
    "print(age)"
   ]
  }
 ],
 "metadata": {
  "kernelspec": {
   "display_name": "Python 3",
   "language": "python",
   "name": "python3"
  },
  "language_info": {
   "codemirror_mode": {
    "name": "ipython",
    "version": 3
   },
   "file_extension": ".py",
   "mimetype": "text/x-python",
   "name": "python",
   "nbconvert_exporter": "python",
   "pygments_lexer": "ipython3",
   "version": "3.8.8"
  }
 },
 "nbformat": 4,
 "nbformat_minor": 2
}
